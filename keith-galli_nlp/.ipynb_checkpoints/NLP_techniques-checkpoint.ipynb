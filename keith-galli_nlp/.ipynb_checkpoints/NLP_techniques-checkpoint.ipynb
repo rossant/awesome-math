{
  "nbformat": 4,
  "nbformat_minor": 0,
  "metadata": {
    "colab": {
      "name": "NLP_techniques.ipynb",
      "provenance": []
    },
    "kernelspec": {
      "name": "python3",
      "display_name": "Python 3"
    }
  },
  "cells": [
    {
      "cell_type": "markdown",
      "metadata": {
        "id": "YKnnQUjAvdxw",
        "colab_type": "text"
      },
      "source": [
        "# Setup\n",
        "\n"
      ]
    },
    {
      "cell_type": "markdown",
      "metadata": {
        "id": "u6kqIEqDvnLG",
        "colab_type": "text"
      },
      "source": [
        "## Install necessary libraries & download models here"
      ]
    },
    {
      "cell_type": "code",
      "metadata": {
        "id": "HzVI4t6t8A6A",
        "colab_type": "code",
        "colab": {}
      },
      "source": [
        "!pip install spacy\n",
        "!python -m spacy download en_core_web_md"
      ],
      "execution_count": 0,
      "outputs": []
    },
    {
      "cell_type": "markdown",
      "metadata": {
        "id": "Zp-Lj6gau4_3",
        "colab_type": "text"
      },
      "source": [
        "# Bag of Words"
      ]
    },
    {
      "cell_type": "markdown",
      "metadata": {
        "id": "BcVtZIvrwGOH",
        "colab_type": "text"
      },
      "source": [
        "#### Define some training utterances"
      ]
    },
    {
      "cell_type": "code",
      "metadata": {
        "id": "L0oRbLNvIAvA",
        "colab_type": "code",
        "colab": {}
      },
      "source": [
        "class Category:\n",
        "  BOOKS = \"BOOKS\"\n",
        "  CLOTHING = \"CLOTHING\"\n",
        "\n",
        "train_x = [\"i love the book\", \"this is a great book\", \"the fit is great\", \"i love the shoes\"]\n",
        "train_y = [Category.BOOKS, Category.BOOKS, Category.CLOTHING, Category.CLOTHING]"
      ],
      "execution_count": 0,
      "outputs": []
    },
    {
      "cell_type": "markdown",
      "metadata": {
        "id": "9t9KsKsgwKOk",
        "colab_type": "text"
      },
      "source": [
        "#### Fit vectorizer to transform text to bag-of-words vectors"
      ]
    },
    {
      "cell_type": "code",
      "metadata": {
        "id": "6RC9pRSUJC5i",
        "colab_type": "code",
        "outputId": "9fe9b943-db32-49de-d874-a9fe28200e0c",
        "colab": {
          "base_uri": "https://localhost:8080/",
          "height": 104
        }
      },
      "source": [
        "from sklearn.feature_extraction.text import CountVectorizer\n",
        "\n",
        "vectorizer = CountVectorizer(binary=True)\n",
        "train_x_vectors = vectorizer.fit_transform(train_x)\n",
        "\n",
        "print(vectorizer.get_feature_names())\n",
        "print(train_x_vectors.toarray())"
      ],
      "execution_count": 3,
      "outputs": [
        {
          "output_type": "stream",
          "text": [
            "['book', 'fit', 'great', 'is', 'love', 'shoes', 'the', 'this']\n",
            "[[1 0 0 0 1 0 1 0]\n",
            " [1 0 1 1 0 0 0 1]\n",
            " [0 1 1 1 0 0 1 0]\n",
            " [0 0 0 0 1 1 1 0]]\n"
          ],
          "name": "stdout"
        }
      ]
    },
    {
      "cell_type": "markdown",
      "metadata": {
        "id": "bYEsm627wXeZ",
        "colab_type": "text"
      },
      "source": [
        "#### Train SVM Model"
      ]
    },
    {
      "cell_type": "code",
      "metadata": {
        "id": "FIM5vQGEJ-Pj",
        "colab_type": "code",
        "outputId": "0001795d-b462-4b7d-d144-ad7e5567d489",
        "colab": {
          "base_uri": "https://localhost:8080/",
          "height": 85
        }
      },
      "source": [
        "from sklearn import svm\n",
        "\n",
        "clf_svm = svm.SVC(kernel='linear')\n",
        "clf_svm.fit(train_x_vectors, train_y)"
      ],
      "execution_count": 0,
      "outputs": [
        {
          "output_type": "execute_result",
          "data": {
            "text/plain": [
              "SVC(C=1.0, break_ties=False, cache_size=200, class_weight=None, coef0=0.0,\n",
              "    decision_function_shape='ovr', degree=3, gamma='scale', kernel='linear',\n",
              "    max_iter=-1, probability=False, random_state=None, shrinking=True,\n",
              "    tol=0.001, verbose=False)"
            ]
          },
          "metadata": {
            "tags": []
          },
          "execution_count": 17
        }
      ]
    },
    {
      "cell_type": "markdown",
      "metadata": {
        "id": "yCXYXFAiweT0",
        "colab_type": "text"
      },
      "source": [
        "#### Test new utterances on trained model"
      ]
    },
    {
      "cell_type": "code",
      "metadata": {
        "id": "ZSzsYwWcLTyL",
        "colab_type": "code",
        "outputId": "ba26ed2b-ca75-47e9-a802-07dedccae9fa",
        "colab": {
          "base_uri": "https://localhost:8080/",
          "height": 34
        }
      },
      "source": [
        "test_x = vectorizer.transform(['i love the books'])\n",
        "\n",
        "clf_svm.predict(test_x)"
      ],
      "execution_count": 0,
      "outputs": [
        {
          "output_type": "execute_result",
          "data": {
            "text/plain": [
              "array(['CLOTHING'], dtype='<U8')"
            ]
          },
          "metadata": {
            "tags": []
          },
          "execution_count": 23
        }
      ]
    },
    {
      "cell_type": "markdown",
      "metadata": {
        "id": "qppVzkfg50h0",
        "colab_type": "text"
      },
      "source": [
        "# Word Vectors"
      ]
    },
    {
      "cell_type": "code",
      "metadata": {
        "id": "VQrh78G9Lg9v",
        "colab_type": "code",
        "colab": {}
      },
      "source": [
        "import spacy\n",
        "\n",
        "nlp = spacy.load(\"en_core_web_md\")"
      ],
      "execution_count": 0,
      "outputs": []
    },
    {
      "cell_type": "code",
      "metadata": {
        "id": "7mNROcfz9cIH",
        "colab_type": "code",
        "outputId": "a495506c-61a6-45e7-a647-6d44c0539934",
        "colab": {
          "base_uri": "https://localhost:8080/",
          "height": 34
        }
      },
      "source": [
        "print(train_x)"
      ],
      "execution_count": 0,
      "outputs": [
        {
          "output_type": "stream",
          "text": [
            "['i love the book', 'this is a great book', 'the fit is great', 'i love the shoes']\n"
          ],
          "name": "stdout"
        }
      ]
    },
    {
      "cell_type": "code",
      "metadata": {
        "id": "HUB0-JrC8e1t",
        "colab_type": "code",
        "colab": {}
      },
      "source": [
        "docs = [nlp(text) for text in train_x]\n",
        "train_x_word_vectors = [x.vector for x in docs]"
      ],
      "execution_count": 0,
      "outputs": []
    },
    {
      "cell_type": "code",
      "metadata": {
        "id": "C7TtQLJ99lOX",
        "colab_type": "code",
        "outputId": "a96cde52-07f7-4fc6-861f-e8e3812a1e28",
        "colab": {
          "base_uri": "https://localhost:8080/",
          "height": 85
        }
      },
      "source": [
        "from sklearn import svm\n",
        "\n",
        "clf_svm_wv = svm.SVC(kernel='linear')\n",
        "clf_svm_wv.fit(train_x_word_vectors, train_y)"
      ],
      "execution_count": 0,
      "outputs": [
        {
          "output_type": "execute_result",
          "data": {
            "text/plain": [
              "SVC(C=1.0, break_ties=False, cache_size=200, class_weight=None, coef0=0.0,\n",
              "    decision_function_shape='ovr', degree=3, gamma='scale', kernel='linear',\n",
              "    max_iter=-1, probability=False, random_state=None, shrinking=True,\n",
              "    tol=0.001, verbose=False)"
            ]
          },
          "metadata": {
            "tags": []
          },
          "execution_count": 12
        }
      ]
    },
    {
      "cell_type": "code",
      "metadata": {
        "id": "mIwwl8Kb-JTK",
        "colab_type": "code",
        "outputId": "b0c58c75-8094-4b01-e713-c75260130854",
        "colab": {
          "base_uri": "https://localhost:8080/",
          "height": 34
        }
      },
      "source": [
        "test_x = [\"I went to the bank and wrote a check\", \"let me check that out\"]\n",
        "test_docs = [nlp(text) for text in test_x]\n",
        "test_x_word_vectors =  [x.vector for x in test_docs]\n",
        "\n",
        "clf_svm_wv.predict(test_x_word_vectors)"
      ],
      "execution_count": 0,
      "outputs": [
        {
          "output_type": "execute_result",
          "data": {
            "text/plain": [
              "array(['CLOTHING'], dtype='<U8')"
            ]
          },
          "metadata": {
            "tags": []
          },
          "execution_count": 21
        }
      ]
    },
    {
      "cell_type": "markdown",
      "metadata": {
        "id": "hKZbojujr-DR",
        "colab_type": "text"
      },
      "source": [
        "# Regexes"
      ]
    },
    {
      "cell_type": "code",
      "metadata": {
        "id": "hvuXSOZk-Wgb",
        "colab_type": "code",
        "outputId": "a7d8c451-2b16-467c-81c2-49d5dc5292df",
        "colab": {
          "base_uri": "https://localhost:8080/",
          "height": 34
        }
      },
      "source": [
        "import re\n",
        "\n",
        "regexp = re.compile(r\"\\bread\\b|\\bstory\\b|book\")\n",
        "\n",
        "phrases = [\"I liked that story.\", \"the car treaded up the hill\", \"this hat is nice\"]\n",
        "\n",
        "matches = []\n",
        "for phrase in phrases:\n",
        "  if re.search(regexp, phrase):\n",
        "    matches.append(phrase)\n",
        "\n",
        "print(matches)\n",
        "\n",
        "\n"
      ],
      "execution_count": 0,
      "outputs": [
        {
          "output_type": "stream",
          "text": [
            "['I liked that story.']\n"
          ],
          "name": "stdout"
        }
      ]
    },
    {
      "cell_type": "markdown",
      "metadata": {
        "id": "vZ4EG0eExl91",
        "colab_type": "text"
      },
      "source": [
        "# Stemming/Lemmatization"
      ]
    },
    {
      "cell_type": "markdown",
      "metadata": {
        "id": "mPkvqDmvwr6S",
        "colab_type": "text"
      },
      "source": [
        "### Setup"
      ]
    },
    {
      "cell_type": "code",
      "metadata": {
        "id": "M9b7aJBusD7D",
        "colab_type": "code",
        "outputId": "4816933c-ce43-4f28-c1b1-34e62f82120d",
        "colab": {
          "base_uri": "https://localhost:8080/",
          "height": 136
        }
      },
      "source": [
        "import nltk\n",
        "\n",
        "nltk.download('wordnet')\n",
        "nltk.download('stopwords')\n",
        "nltk.download('punkt')"
      ],
      "execution_count": 0,
      "outputs": [
        {
          "output_type": "stream",
          "text": [
            "[nltk_data] Downloading package wordnet to /root/nltk_data...\n",
            "[nltk_data]   Unzipping corpora/wordnet.zip.\n",
            "[nltk_data] Downloading package stopwords to /root/nltk_data...\n",
            "[nltk_data]   Unzipping corpora/stopwords.zip.\n",
            "[nltk_data] Downloading package punkt to /root/nltk_data...\n",
            "[nltk_data]   Unzipping tokenizers/punkt.zip.\n"
          ],
          "name": "stdout"
        },
        {
          "output_type": "execute_result",
          "data": {
            "text/plain": [
              "True"
            ]
          },
          "metadata": {
            "tags": []
          },
          "execution_count": 8
        }
      ]
    },
    {
      "cell_type": "markdown",
      "metadata": {
        "id": "BxU1xCL1wvSs",
        "colab_type": "text"
      },
      "source": [
        "### Stemming"
      ]
    },
    {
      "cell_type": "code",
      "metadata": {
        "id": "crYLVnZfx1ac",
        "colab_type": "code",
        "outputId": "32e7353a-b3e0-4d27-a9c1-22c8866cdfab",
        "colab": {
          "base_uri": "https://localhost:8080/",
          "height": 34
        }
      },
      "source": [
        "from nltk.tokenize import word_tokenize\n",
        "from nltk.stem import PorterStemmer\n",
        "\n",
        "stemmer = PorterStemmer()\n",
        "\n",
        "phrase = \"reading the books\"\n",
        "words = word_tokenize(phrase)\n",
        "\n",
        "stemmed_words = []\n",
        "for word in words:\n",
        "  stemmed_words.append(stemmer.stem(word))\n",
        "\n",
        "\" \".join(stemmed_words)"
      ],
      "execution_count": 0,
      "outputs": [
        {
          "output_type": "execute_result",
          "data": {
            "text/plain": [
              "'read the book'"
            ]
          },
          "metadata": {
            "tags": []
          },
          "execution_count": 14
        }
      ]
    },
    {
      "cell_type": "markdown",
      "metadata": {
        "id": "JKSEr4AvwzD2",
        "colab_type": "text"
      },
      "source": [
        "### Lemmatizing"
      ]
    },
    {
      "cell_type": "code",
      "metadata": {
        "id": "ByiZ5qsSyF2f",
        "colab_type": "code",
        "outputId": "f3e6b4e3-6188-4d04-9dc2-361d9aa770a7",
        "colab": {
          "base_uri": "https://localhost:8080/",
          "height": 34
        }
      },
      "source": [
        "from nltk.stem import WordNetLemmatizer\n",
        "\n",
        "lemmatizer = WordNetLemmatizer()\n",
        "\n",
        "phrase = \"reading the books\"\n",
        "words = word_tokenize(phrase)\n",
        "\n",
        "lemmatized_words = []\n",
        "for word in words:\n",
        "  lemmatized_words.append(lemmatizer.lemmatize(word, pos='v'))\n",
        "\n",
        "\" \".join(lemmatized_words)\n",
        "\n"
      ],
      "execution_count": 0,
      "outputs": [
        {
          "output_type": "execute_result",
          "data": {
            "text/plain": [
              "'read the book'"
            ]
          },
          "metadata": {
            "tags": []
          },
          "execution_count": 16
        }
      ]
    },
    {
      "cell_type": "markdown",
      "metadata": {
        "id": "-ief7p3O5diZ",
        "colab_type": "text"
      },
      "source": [
        "# Stopwords\n",
        "### Tokenize, then remove Stopwords"
      ]
    },
    {
      "cell_type": "code",
      "metadata": {
        "id": "qXU6xv5ly_mT",
        "colab_type": "code",
        "outputId": "18370176-14eb-468d-d83b-82996cc8e8dd",
        "colab": {
          "base_uri": "https://localhost:8080/",
          "height": 34
        }
      },
      "source": [
        "from nltk.tokenize import word_tokenize\n",
        "from nltk.corpus import stopwords\n",
        "\n",
        "stop_words = stopwords.words('english')\n",
        "\n",
        "phrase = \"Here is an example sentence demonstrating the removal of stopwords\"\n",
        "\n",
        "words = word_tokenize(phrase)\n",
        "\n",
        "stripped_phrase = []\n",
        "for word in words:\n",
        "  if word not in stop_words:\n",
        "    stripped_phrase.append(word)\n",
        "\n",
        "\" \".join(stripped_phrase)\n"
      ],
      "execution_count": 0,
      "outputs": [
        {
          "output_type": "execute_result",
          "data": {
            "text/plain": [
              "'Here example sentence demonstrating removal stopwords'"
            ]
          },
          "metadata": {
            "tags": []
          },
          "execution_count": 21
        }
      ]
    },
    {
      "cell_type": "markdown",
      "metadata": {
        "id": "iO99N-Yu_Zki",
        "colab_type": "text"
      },
      "source": [
        "# Various other techniques (spell correction, sentiment, & pos tagging)"
      ]
    },
    {
      "cell_type": "code",
      "metadata": {
        "id": "W8BHnKC-AipW",
        "colab_type": "code",
        "colab": {}
      },
      "source": [
        "!python -m textblob.download_corpora"
      ],
      "execution_count": 0,
      "outputs": []
    },
    {
      "cell_type": "code",
      "metadata": {
        "id": "4ZgZHunm5s6s",
        "colab_type": "code",
        "outputId": "e0e6b762-ebf4-4536-f7c0-9babc14ee1ae",
        "colab": {
          "base_uri": "https://localhost:8080/",
          "height": 34
        }
      },
      "source": [
        "from textblob import TextBlob\n",
        "\n",
        "phrase = \"the book was horrible\"\n",
        "\n",
        "tb_phrase = TextBlob(phrase)\n",
        "\n",
        "tb_phrase.correct()\n",
        "\n",
        "tb_phrase.tags\n",
        "\n",
        "tb_phrase.sentiment"
      ],
      "execution_count": 0,
      "outputs": [
        {
          "output_type": "execute_result",
          "data": {
            "text/plain": [
              "Sentiment(polarity=-1.0, subjectivity=1.0)"
            ]
          },
          "metadata": {
            "tags": []
          },
          "execution_count": 42
        }
      ]
    },
    {
      "cell_type": "markdown",
      "metadata": {
        "id": "Y3XJhTI6mVC5",
        "colab_type": "text"
      },
      "source": [
        "## Transformer Architecture"
      ]
    },
    {
      "cell_type": "markdown",
      "metadata": {
        "id": "zQtiJN4BxKSm",
        "colab_type": "text"
      },
      "source": [
        "### Setup"
      ]
    },
    {
      "cell_type": "code",
      "metadata": {
        "id": "6lx7Pmhe73V_",
        "colab_type": "code",
        "colab": {}
      },
      "source": [
        "!pip install spacy-transformers\n",
        "!python -m spacy download en_trf_bertbaseuncased_lg"
      ],
      "execution_count": 0,
      "outputs": []
    },
    {
      "cell_type": "markdown",
      "metadata": {
        "id": "gMUuhTuKxNOv",
        "colab_type": "text"
      },
      "source": [
        "### Using Spacy to utilize BERT Model"
      ]
    },
    {
      "cell_type": "code",
      "metadata": {
        "id": "yjWiFw94mhHY",
        "colab_type": "code",
        "colab": {}
      },
      "source": [
        "import spacy\n",
        "import torch\n",
        "\n",
        "nlp = spacy.load(\"en_trf_bertbaseuncased_lg\")\n",
        "doc = nlp(\"Here is some text to encode.\")"
      ],
      "execution_count": 0,
      "outputs": []
    },
    {
      "cell_type": "code",
      "metadata": {
        "id": "G6W0cwMincC6",
        "colab_type": "code",
        "colab": {}
      },
      "source": [
        "class Category:\n",
        "  BOOKS = \"BOOKS\"\n",
        "  BANK = \"BANK\"\n",
        "\n",
        "train_x = [\"good characters and plot progression\", \"check out the book\", \"good story. would recommend\", \"novel recommendation\", \"need to make a deposit to the bank\", \"balance inquiry savings\", \"save money\"]\n",
        "train_y = [Category.BOOKS, Category.BOOKS, Category.BOOKS, Category.BOOKS, Category.BANK, Category.BANK, Category.BANK]"
      ],
      "execution_count": 0,
      "outputs": []
    },
    {
      "cell_type": "code",
      "metadata": {
        "id": "LjckR6NBn4fo",
        "colab_type": "code",
        "outputId": "a61c3d13-99e5-4d05-8afb-e1601fab7393",
        "colab": {
          "base_uri": "https://localhost:8080/",
          "height": 34
        }
      },
      "source": [
        "from sklearn import svm\n",
        "\n",
        "docs = [nlp(text) for text in train_x]\n",
        "train_x_vectors = [doc.vector for doc in docs]\n",
        "clf_svm = svm.SVC(kernel='linear')\n",
        "\n",
        "clf_svm.fit(train_x_vectors, train_y)\n",
        "\n",
        "test_x = [\"check this story out\"]\n",
        "docs = [nlp(text) for text in test_x]\n",
        "test_x_vectors = [doc.vector for doc in docs]\n",
        "\n",
        "clf_svm.predict(test_x_vectors)"
      ],
      "execution_count": 0,
      "outputs": [
        {
          "output_type": "execute_result",
          "data": {
            "text/plain": [
              "array(['BOOKS'], dtype='<U5')"
            ]
          },
          "metadata": {
            "tags": []
          },
          "execution_count": 6
        }
      ]
    }
  ]
}